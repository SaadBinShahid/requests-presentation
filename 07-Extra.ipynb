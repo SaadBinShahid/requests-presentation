{
 "metadata": {
  "name": "07-Extra"
 },
 "nbformat": 3,
 "nbformat_minor": 0,
 "worksheets": [
  {
   "cells": [
    {
     "cell_type": "heading",
     "level": 1,
     "metadata": {},
     "source": [
      "Extra"
     ]
    },
    {
     "cell_type": "markdown",
     "metadata": {},
     "source": [
      "* Sessions\n",
      "* SSL cert verification\n",
      "* Streaming requests/responses\n",
      "* Custom auth\n",
      "* Link header\n",
      "* [GRequests](https://github.com/kennethreitz/grequests) - Async requests"
     ]
    }
   ],
   "metadata": {}
  }
 ]
}