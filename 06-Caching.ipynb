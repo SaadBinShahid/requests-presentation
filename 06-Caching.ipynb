{
 "metadata": {
  "name": "06-Caching"
 },
 "nbformat": 3,
 "nbformat_minor": 0,
 "worksheets": [
  {
   "cells": [
    {
     "cell_type": "heading",
     "level": 1,
     "metadata": {},
     "source": [
      "Caching"
     ]
    },
    {
     "cell_type": "code",
     "collapsed": false,
     "input": [
      "import requests"
     ],
     "language": "python",
     "metadata": {},
     "outputs": []
    },
    {
     "cell_type": "markdown",
     "metadata": {},
     "source": [
      "* Good resources or APIs provide info needed for smart caching\n",
      "  * cache controls\n",
      "  * conditional requests"
     ]
    },
    {
     "cell_type": "heading",
     "level": 2,
     "metadata": {},
     "source": [
      "Conditional Requests"
     ]
    },
    {
     "cell_type": "heading",
     "level": 3,
     "metadata": {},
     "source": [
      "Cache until updated since date"
     ]
    },
    {
     "cell_type": "code",
     "collapsed": false,
     "input": [
      "response = requests.get('http://httpbin.org/cache')\n",
      "last_modified = response.headers['Last-Modified']\n",
      "# Now cache the resource along with the last modified date...\n",
      "last_modified"
     ],
     "language": "python",
     "metadata": {},
     "outputs": []
    },
    {
     "cell_type": "code",
     "collapsed": false,
     "input": [
      "# NOTE Don't bother parsing the date, just feed it back to the server directly\n",
      "# If 304, keep using what we've cached...\n",
      "requests.get('http://httpbin.org/cache', headers={'If-Modified-Since': last_modified})"
     ],
     "language": "python",
     "metadata": {},
     "outputs": []
    },
    {
     "cell_type": "heading",
     "level": 3,
     "metadata": {},
     "source": [
      "Cache until Etag changes"
     ]
    },
    {
     "cell_type": "code",
     "collapsed": false,
     "input": [
      "response = requests.get('http://httpbin.org/cache')\n",
      "etag = response.headers['ETag']\n",
      "# Now cache the resource along with the etag...\n",
      "etag"
     ],
     "language": "python",
     "metadata": {},
     "outputs": []
    },
    {
     "cell_type": "code",
     "collapsed": false,
     "input": [
      "# If 304, keep using what we've cached...\n",
      "requests.get('http://httpbin.org/cache', headers={'If-None-Match': etag})"
     ],
     "language": "python",
     "metadata": {},
     "outputs": []
    },
    {
     "cell_type": "heading",
     "level": 3,
     "metadata": {},
     "source": [
      "Conditional Updates"
     ]
    },
    {
     "cell_type": "markdown",
     "metadata": {},
     "source": [
      "* Detect if the resource has changed on the server since the client retrieved it\n",
      "* If-Unmodified-Since/If-Match with datetime/etag, respectively\n",
      "  * Fails with HTTP 412 (Precondition Failed) if resource has changed\n",
      "  * Client would then retrieve resource and resolve conflict"
     ]
    }
   ],
   "metadata": {}
  }
 ]
}