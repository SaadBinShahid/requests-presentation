{
 "metadata": {
  "name": "07-Clients"
 },
 "nbformat": 3,
 "nbformat_minor": 0,
 "worksheets": [
  {
   "cells": [
    {
     "cell_type": "heading",
     "level": 1,
     "metadata": {},
     "source": [
      "Building Clients"
     ]
    },
    {
     "cell_type": "heading",
     "level": 2,
     "metadata": {},
     "source": [
      "Re-usable clients and components"
     ]
    },
    {
     "cell_type": "markdown",
     "metadata": {},
     "source": [
      "* Don't mix up application logic in clients\n",
      "  * Keep them simple and dumb, exposing only the underlying service\n"
     ]
    }
   ],
   "metadata": {}
  }
 ]
}