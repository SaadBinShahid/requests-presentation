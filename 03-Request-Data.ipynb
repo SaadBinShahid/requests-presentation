{
 "metadata": {
  "name": "03-Request-Data"
 },
 "nbformat": 3,
 "nbformat_minor": 0,
 "worksheets": [
  {
   "cells": [
    {
     "cell_type": "heading",
     "level": 1,
     "metadata": {},
     "source": [
      "Sending Data in Requests"
     ]
    },
    {
     "cell_type": "markdown",
     "metadata": {},
     "source": [
      "The unsafe HTTP actions: **POST**, **PUT**, **DELETE**"
     ]
    },
    {
     "cell_type": "code",
     "collapsed": false,
     "input": [
      "import requests"
     ],
     "language": "python",
     "metadata": {},
     "outputs": []
    },
    {
     "cell_type": "heading",
     "level": 2,
     "metadata": {},
     "source": [
      "Form Data"
     ]
    },
    {
     "cell_type": "code",
     "collapsed": false,
     "input": [
      "requests.post('http://httpbin.org/post', data={'a': 1, 'b': 2}).json()"
     ],
     "language": "python",
     "metadata": {},
     "outputs": []
    },
    {
     "cell_type": "heading",
     "level": 2,
     "metadata": {},
     "source": [
      "JSON Data"
     ]
    },
    {
     "cell_type": "code",
     "collapsed": false,
     "input": [
      "import json\n",
      "requests.post('http://httpbin.org/post', data=json.dumps({'a': 1, 'b': 2})).json()"
     ],
     "language": "python",
     "metadata": {},
     "outputs": []
    },
    {
     "cell_type": "heading",
     "level": 2,
     "metadata": {},
     "source": [
      "PUT and DELETE"
     ]
    },
    {
     "cell_type": "code",
     "collapsed": false,
     "input": [
      "requests.put('http://httpbin.org/get', data={'a': 1, 'b': 2})"
     ],
     "language": "python",
     "metadata": {},
     "outputs": []
    },
    {
     "cell_type": "code",
     "collapsed": false,
     "input": [
      "requests.put('http://httpbin.org/put', data={'a': 1, 'b': 2}).json()"
     ],
     "language": "python",
     "metadata": {},
     "outputs": []
    },
    {
     "cell_type": "code",
     "collapsed": false,
     "input": [
      "requests.delete('http://httpbin.org/delete')"
     ],
     "language": "python",
     "metadata": {},
     "outputs": []
    },
    {
     "cell_type": "code",
     "collapsed": false,
     "input": [],
     "language": "python",
     "metadata": {},
     "outputs": []
    }
   ],
   "metadata": {}
  }
 ]
}