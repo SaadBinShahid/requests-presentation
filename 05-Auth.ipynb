{
 "metadata": {
  "name": "05-Auth"
 },
 "nbformat": 3,
 "nbformat_minor": 0,
 "worksheets": [
  {
   "cells": [
    {
     "cell_type": "heading",
     "level": 1,
     "metadata": {},
     "source": [
      "Authenticating Requests"
     ]
    },
    {
     "cell_type": "heading",
     "level": 2,
     "metadata": {},
     "source": [
      "Basic Auth"
     ]
    },
    {
     "cell_type": "heading",
     "level": 2,
     "metadata": {},
     "source": [
      "OAuth"
     ]
    }
   ],
   "metadata": {}
  }
 ]
}