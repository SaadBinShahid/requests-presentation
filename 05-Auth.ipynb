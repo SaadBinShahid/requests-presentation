{
 "metadata": {
  "name": "05-Auth"
 },
 "nbformat": 3,
 "nbformat_minor": 0,
 "worksheets": [
  {
   "cells": [
    {
     "cell_type": "heading",
     "level": 1,
     "metadata": {},
     "source": [
      "Authenticating Requests"
     ]
    },
    {
     "cell_type": "code",
     "collapsed": false,
     "input": [
      "import requests"
     ],
     "language": "python",
     "metadata": {},
     "outputs": []
    },
    {
     "cell_type": "heading",
     "level": 2,
     "metadata": {},
     "source": [
      "Basic Auth"
     ]
    },
    {
     "cell_type": "code",
     "collapsed": false,
     "input": [
      "from requests.auth import HTTPBasicAuth\n",
      "requests.get('http://httpbin.org/basic-auth/user/passwd', auth=HTTPBasicAuth('user', 'passwd'))"
     ],
     "language": "python",
     "metadata": {},
     "outputs": []
    },
    {
     "cell_type": "code",
     "collapsed": false,
     "input": [
      "requests.get('http://httpbin.org/basic-auth/user/passwd', auth=('user', 'passwd'))"
     ],
     "language": "python",
     "metadata": {},
     "outputs": []
    },
    {
     "cell_type": "code",
     "collapsed": false,
     "input": [
      "requests.get('http://httpbin.org/basic-auth/user/passwd', auth=('user', 'ba4444d'))"
     ],
     "language": "python",
     "metadata": {},
     "outputs": []
    },
    {
     "cell_type": "heading",
     "level": 2,
     "metadata": {},
     "source": [
      "OAuth"
     ]
    },
    {
     "cell_type": "markdown",
     "metadata": {},
     "source": [
      "Via [requests-oauthlib](https://requests-oauthlib.readthedocs.org/en/latest/)"
     ]
    },
    {
     "cell_type": "heading",
     "level": 2,
     "metadata": {},
     "source": [
      "More Auth"
     ]
    },
    {
     "cell_type": "markdown",
     "metadata": {},
     "source": [
      "Available in the [requests org](https://github.com/requests) on GitHub"
     ]
    }
   ],
   "metadata": {}
  }
 ]
}