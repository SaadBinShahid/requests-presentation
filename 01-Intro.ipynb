{
 "metadata": {
  "name": "01-Intro"
 },
 "nbformat": 3,
 "nbformat_minor": 0,
 "worksheets": [
  {
   "cells": [
    {
     "cell_type": "markdown",
     "metadata": {},
     "source": [
      "# PythonKC - June 2013 - Module of the Month - Requests \n",
      "\n",
      "## Who am I?\n",
      "\n",
      "* Steven Cummings\n",
      "* Software Architect at Cerner\n",
      "* GitHub: https://github.com/estebistec\n",
      "* Twitter: https://twitter.com/estebistec\n",
      "\n",
      "## Follow along!\n",
      "\n",
      "    mkvirtualenv requests-presentation\n",
      "    git clone https://github.com/estebistec/requests-presentation\n",
      "    cd requests-presentation\n",
      "    pip install -r requirements.txt\n",
      "    ipython notebook\n",
      "\n",
      "## HTTP: Know it, love it\n",
      "\n",
      "* An application protocol (client-server, stateless, caching, uniform interface, layered)\n",
      "* Code to the media type, follow links\n",
      "\n",
      "## References\n",
      "\n",
      "* [Hypertext Transfer Protocol -- HTTP/1.1](http://tools.ietf.org/html/rfc2616) (RFC 2616)\n",
      "* [Hypertext Transfer Protocol version 2.0](http://tools.ietf.org/html/draft-ietf-httpbis-http2-03) (draft)\n",
      "* [Architectural Styles and the Design of Network-based Software Architectures](http://www.ics.uci.edu/~fielding/pubs/dissertation/top.htm) (Wherein REST is defined)\n",
      "* [Designing Hypermedia APIs](http://designinghypermediaapis.com/) (Read this and stop putting JSON RPC methods on the Internet! Think of the children!)"
     ]
    }
   ],
   "metadata": {}
  }
 ]
}